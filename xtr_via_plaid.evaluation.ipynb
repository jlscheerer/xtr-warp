{
 "cells": [
  {
   "cell_type": "code",
   "execution_count": 1,
   "id": "4c8928f9-2cc5-48b3-ac2e-69fe93daf0b4",
   "metadata": {},
   "outputs": [],
   "source": [
    "from xtr_via_plaid import search, XTRRunConfig\n",
    "from evaluation.evaluate_lotte_rankings import evaluate_dataset"
   ]
  },
  {
   "cell_type": "code",
   "execution_count": 2,
   "id": "c88f9967-2fe6-44a7-9848-0505b441d61c",
   "metadata": {},
   "outputs": [],
   "source": [
    "def make_config(collection, datasplit, nbits, k):\n",
    "    return XTRRunConfig(nranks=4, dataset=\"lotte\", collection=collection,\n",
    "                    type_=\"search\", datasplit=datasplit, nbits=nbits, k=k)\n",
    "\n",
    "COLLECTIONS = [\"lifestyle\", \"pooled\", \"recreation\", \"science\", \"technology\", \"writing\"]\n",
    "DATASPLITS = [\"dev\", \"test\"]\n",
    "NBITS = [1, 2, 4]\n",
    "K = [100]"
   ]
  },
  {
   "cell_type": "markdown",
   "id": "4419a2e1-3c0b-43a0-9366-04946a9d937f",
   "metadata": {},
   "source": [
    "### Evaluate Accuracy (XTR/PLAID)"
   ]
  },
  {
   "cell_type": "code",
   "execution_count": 5,
   "id": "84809c28-69f7-4bd3-b110-bd62bb9567cf",
   "metadata": {},
   "outputs": [],
   "source": [
    "import itertools\n",
    "from tqdm import tqdm\n",
    "import json\n",
    "import os\n",
    "\n",
    "if not os.path.exists(\"results.json\"):\n",
    "    results = []\n",
    "    for collection, split, nbits, k in tqdm(itertools.product(COLLECTIONS, DATASPLITS, NBITS, K)):\n",
    "        config = make_config(collection=collection, datasplit=split, nbits=nbits, k=k)\n",
    "        rankings_path = search(config)\n",
    "    \n",
    "        # NOTE For now always (just) evaluate S@5\n",
    "        result = evaluate_dataset(rankings_path, collection, split, k=5)\n",
    "        result['config'] = {'collection': collection, 'split': split, 'nbits': nbits, 'k': k}\n",
    "        results.append(result)\n",
    "    \n",
    "    with open(\"results.json\", \"w\") as file:\n",
    "        file.write(json.dumps(results))\n",
    "else:\n",
    "    with open(\"results.json\", \"r\") as file:\n",
    "        results = json.loads(file.read())"
   ]
  },
  {
   "cell_type": "code",
   "execution_count": 59,
   "id": "24b39a1c-5bde-4722-a28c-c5a914190e8e",
   "metadata": {},
   "outputs": [
    {
     "data": {
      "text/html": [
       "<table border=\"1\" class=\"dataframe\">\n",
       "  <thead>\n",
       "    <tr style=\"text-align: right;\">\n",
       "      <th></th>\n",
       "      <th>dataset</th>\n",
       "      <th>XTR-base</th>\n",
       "      <th>XTR-xxl</th>\n",
       "      <th>S@5 (nbits=1)</th>\n",
       "      <th>S@5 (nbits=2)</th>\n",
       "      <th>S@5 (nbits=4)</th>\n",
       "      <th>ColBERT</th>\n",
       "      <th>ColBERTv2</th>\n",
       "    </tr>\n",
       "  </thead>\n",
       "  <tbody>\n",
       "    <tr>\n",
       "      <th>0</th>\n",
       "      <td>lifestyle</td>\n",
       "      <td>82.1</td>\n",
       "      <td>89.1</td>\n",
       "      <td>81.1 (<span style='color:red'>+ -1.0</span>)</td>\n",
       "      <td>83.2 (<span style='color:green'>+ 1.1</span>)</td>\n",
       "      <td>82.9 (<span style='color:green'>+ 0.8</span>)</td>\n",
       "      <td>80.2</td>\n",
       "      <td>84.7</td>\n",
       "    </tr>\n",
       "    <tr>\n",
       "      <th>1</th>\n",
       "      <td>pooled</td>\n",
       "      <td>69.0</td>\n",
       "      <td>77.3</td>\n",
       "      <td>65.4 (<span style='color:red'>+ -3.6</span>)</td>\n",
       "      <td>68.3 (<span style='color:red'>+ -0.7</span>)</td>\n",
       "      <td>69.2 (<span style='color:green'>+ 0.2</span>)</td>\n",
       "      <td>67.3</td>\n",
       "      <td>71.6</td>\n",
       "    </tr>\n",
       "    <tr>\n",
       "      <th>2</th>\n",
       "      <td>recreation</td>\n",
       "      <td>69.4</td>\n",
       "      <td>79.3</td>\n",
       "      <td>66.5 (<span style='color:red'>+ -2.9</span>)</td>\n",
       "      <td>68.6 (<span style='color:red'>+ -0.8</span>)</td>\n",
       "      <td>68.6 (<span style='color:red'>+ -0.8</span>)</td>\n",
       "      <td>68.5</td>\n",
       "      <td>72.3</td>\n",
       "    </tr>\n",
       "    <tr>\n",
       "      <th>3</th>\n",
       "      <td>science</td>\n",
       "      <td>54.9</td>\n",
       "      <td>60.8</td>\n",
       "      <td>52.5 (<span style='color:red'>+ -2.4</span>)</td>\n",
       "      <td>54.8 (<span style='color:red'>+ -0.1</span>)</td>\n",
       "      <td>56.2 (<span style='color:green'>+ 1.3</span>)</td>\n",
       "      <td>53.6</td>\n",
       "      <td>56.7</td>\n",
       "    </tr>\n",
       "    <tr>\n",
       "      <th>4</th>\n",
       "      <td>technology</td>\n",
       "      <td>63.2</td>\n",
       "      <td>73.7</td>\n",
       "      <td>60.2 (<span style='color:red'>+ -3.0</span>)</td>\n",
       "      <td>62.4 (<span style='color:red'>+ -0.8</span>)</td>\n",
       "      <td>63.8 (<span style='color:green'>+ 0.6</span>)</td>\n",
       "      <td>61.9</td>\n",
       "      <td>66.1</td>\n",
       "    </tr>\n",
       "    <tr>\n",
       "      <th>5</th>\n",
       "      <td>writing</td>\n",
       "      <td>77.0</td>\n",
       "      <td>83.3</td>\n",
       "      <td>76.7 (<span style='color:red'>+ -0.3</span>)</td>\n",
       "      <td>77.5 (<span style='color:green'>+ 0.5</span>)</td>\n",
       "      <td>77.4 (<span style='color:green'>+ 0.4</span>)</td>\n",
       "      <td>74.7</td>\n",
       "      <td>80.1</td>\n",
       "    </tr>\n",
       "  </tbody>\n",
       "</table>"
      ],
      "text/plain": [
       "<IPython.core.display.HTML object>"
      ]
     },
     "metadata": {},
     "output_type": "display_data"
    }
   ],
   "source": [
    "import pandas as pd\n",
    "\n",
    "xtr_base = {\"lifestyle\": 82.1, \"pooled\": 69.0, \"recreation\":69.4, \"science\": 54.9, \"technology\": 63.2, \"writing\": 77.0}\n",
    "xtr_xxl = {\"lifestyle\": 89.1, \"pooled\": 77.3, \"recreation\": 79.3, \"science\": 60.8, \"technology\": 73.7, \"writing\": 83.3}\n",
    "colbert = {\"lifestyle\": 80.2, \"pooled\": 67.3, \"recreation\": 68.5, \"science\": 53.6, \"technology\": 61.9, \"writing\": 74.7}\n",
    "colbertv2 = {\"lifestyle\": 84.7, \"pooled\": 71.6, \"recreation\": 72.3, \"science\": 56.7, \"technology\": 66.1, \"writing\": 80.1}\n",
    "\n",
    "results_by_dataset = dict()\n",
    "offset = dict()\n",
    "for result in results:\n",
    "    collection = result[\"provenance\"][\"dataset\"]\n",
    "    nbits = result[\"config\"][\"nbits\"]\n",
    "    \n",
    "    s5 = result[\"metrics\"][\"Success@5\"]\n",
    "    results_by_dataset[(collection, nbits)] = round(s5 * 100.0, 1)\n",
    "    offset_to_base = round(100.0 * s5 - xtr_base[collection], 1)\n",
    "    if offset_to_base > 0:\n",
    "        offset_to_base = f\"<span style='color:green'>+ {offset_to_base}</span>\"\n",
    "    else:\n",
    "        offset_to_base = f\"<span style='color:red'>{offset_to_base}</span>\"\n",
    "    offset[(collection, nbits)] = offset_to_base\n",
    "\n",
    "df = pd.DataFrame(data=[[collection, xtr_base[collection], xtr_xxl[collection], *[f\"{results_by_dataset[(collection, nbits)]} ({offset[(collection, nbits)]})\" for nbits in NBITS], colbert[collection], colbertv2[collection]] for collection in COLLECTIONS],\n",
    "                  columns=[\"dataset\", \"XTR-base\", \"XTR-xxl\", *[f\"S@5 (nbits={nbits})\" for nbits in NBITS], \"ColBERT\", \"ColBERTv2\"])\n",
    "\n",
    "from IPython.display import display, HTML\n",
    "display(HTML(df.to_html(escape=False)))"
   ]
  },
  {
   "cell_type": "markdown",
   "id": "f213cab1-5c9f-47dd-805c-7b85c560ddb4",
   "metadata": {},
   "source": [
    "### Evaluate Latency (XTR/PLAID)"
   ]
  },
  {
   "cell_type": "code",
   "execution_count": 1,
   "id": "7b35c31f-5ea6-40d9-85c4-bbd2b54f00ac",
   "metadata": {},
   "outputs": [
    {
     "name": "stderr",
     "output_type": "stream",
     "text": [
      "No CUDA runtime is found, using CUDA_HOME='/usr/local/cuda'\n"
     ]
    }
   ],
   "source": [
    "# NOTE Ensure to RESTART the Kernel before running this cell.\n",
    "import os\n",
    "os.environ[\"CUDA_VISIBLE_DEVICES\"] = \"\"\n",
    "\n",
    "from xtr_via_plaid import search, XTRRunConfig"
   ]
  },
  {
   "cell_type": "code",
   "execution_count": 4,
   "id": "0613f847-1e7c-4e09-9604-4c932f9f0bc0",
   "metadata": {},
   "outputs": [],
   "source": [
    "import torch\n",
    "\n",
    "def setup_num_threads(num_threads):\n",
    "    torch.set_num_threads(num_threads)\n",
    "    assert os.environ[\"CUDA_VISIBLE_DEVICES\"] == \"\"\n",
    "\n",
    "def make_config(collection, datasplit, nbits, k):\n",
    "    return XTRRunConfig(nranks=4, dataset=\"lotte\", collection=collection,\n",
    "                    type_=\"search\", datasplit=datasplit, nbits=nbits, k=k)\n",
    "\n",
    "COLLECTIONS = [\"lifestyle\", \"pooled\", \"recreation\", \"science\", \"technology\", \"writing\"]\n",
    "DATASPLITS = [\"dev\", \"test\"]\n",
    "NBITS = [1, 2, 4]\n",
    "K = [100]\n",
    "THREADS = [1, 4, 8, 16, 24]"
   ]
  },
  {
   "cell_type": "code",
   "execution_count": 5,
   "id": "c6d14acd-687d-4526-a935-73c52c02aefc",
   "metadata": {},
   "outputs": [],
   "source": [
    "from colbert.modeling.colbert import ColBERT\n",
    "ColBERT.try_load_torch_extensions(use_gpu=False)"
   ]
  },
  {
   "cell_type": "code",
   "execution_count": 11,
   "id": "c8552aa2-d87e-494d-b5bb-b54f6cf04e72",
   "metadata": {},
   "outputs": [
    {
     "name": "stdout",
     "output_type": "stream",
     "text": [
      "[May 29, 17:51:40] #> Loading collection...\n",
      "0M \n",
      "[May 29, 17:51:43] #> Loading codec...\n",
      "[May 29, 17:51:43] #> Loading IVF...\n",
      "[May 29, 17:51:43] #> Loading doclens...\n"
     ]
    },
    {
     "name": "stderr",
     "output_type": "stream",
     "text": [
      "100%|████████████████████████████████████████████████████████████████████████████████████████████████████████████████████████████████| 11/11 [00:00<00:00, 358.06it/s]"
     ]
    },
    {
     "name": "stdout",
     "output_type": "stream",
     "text": [
      "[May 29, 17:51:43] #> Loading codes and residuals...\n"
     ]
    },
    {
     "name": "stderr",
     "output_type": "stream",
     "text": [
      "\n",
      "100%|█████████████████████████████████████████████████████████████████████████████████████████████████████████████████████████████████| 11/11 [00:01<00:00,  9.92it/s]"
     ]
    },
    {
     "name": "stdout",
     "output_type": "stream",
     "text": [
      "[May 29, 17:51:44] #> Loading the queries from /lfs/1/scheerer/datasets/lotte/lotte/lifestyle/dev/questions.search.tsv ...\n",
      "[May 29, 17:51:44] #> Got 417 queries. All QIDs are unique.\n",
      "\n"
     ]
    },
    {
     "name": "stderr",
     "output_type": "stream",
     "text": [
      "\n",
      "100%|███████████████████████████████████████████████████████████████████████████████████████████████████████████████████████████████| 417/417 [02:44<00:00,  2.53it/s]\n"
     ]
    },
    {
     "name": "stdout",
     "output_type": "stream",
     "text": [
      "[May 29, 17:54:29] #> Loading collection...\n",
      "0M \n",
      "[May 29, 17:54:31] #> Loading codec...\n",
      "[May 29, 17:54:31] #> Loading IVF...\n",
      "[May 29, 17:54:31] #> Loading doclens...\n"
     ]
    },
    {
     "name": "stderr",
     "output_type": "stream",
     "text": [
      "100%|████████████████████████████████████████████████████████████████████████████████████████████████████████████████████████████████| 11/11 [00:00<00:00, 347.68it/s]"
     ]
    },
    {
     "name": "stdout",
     "output_type": "stream",
     "text": [
      "[May 29, 17:54:31] #> Loading codes and residuals...\n"
     ]
    },
    {
     "name": "stderr",
     "output_type": "stream",
     "text": [
      "\n",
      "100%|█████████████████████████████████████████████████████████████████████████████████████████████████████████████████████████████████| 11/11 [00:00<00:00, 15.32it/s]"
     ]
    },
    {
     "name": "stdout",
     "output_type": "stream",
     "text": [
      "[May 29, 17:54:32] #> Loading the queries from /lfs/1/scheerer/datasets/lotte/lotte/lifestyle/dev/questions.search.tsv ...\n",
      "[May 29, 17:54:32] #> Got 417 queries. All QIDs are unique.\n",
      "\n"
     ]
    },
    {
     "name": "stderr",
     "output_type": "stream",
     "text": [
      "\n",
      "100%|███████████████████████████████████████████████████████████████████████████████████████████████████████████████████████████████| 417/417 [01:09<00:00,  6.03it/s]\n"
     ]
    },
    {
     "name": "stdout",
     "output_type": "stream",
     "text": [
      "[May 29, 17:55:41] #> Loading collection...\n",
      "0M \n",
      "[May 29, 17:55:43] #> Loading codec...\n",
      "[May 29, 17:55:43] #> Loading IVF...\n",
      "[May 29, 17:55:43] #> Loading doclens...\n"
     ]
    },
    {
     "name": "stderr",
     "output_type": "stream",
     "text": [
      "100%|████████████████████████████████████████████████████████████████████████████████████████████████████████████████████████████████| 11/11 [00:00<00:00, 381.93it/s]"
     ]
    },
    {
     "name": "stdout",
     "output_type": "stream",
     "text": [
      "[May 29, 17:55:43] #> Loading codes and residuals...\n"
     ]
    },
    {
     "name": "stderr",
     "output_type": "stream",
     "text": [
      "\n",
      "100%|█████████████████████████████████████████████████████████████████████████████████████████████████████████████████████████████████| 11/11 [00:00<00:00, 16.88it/s]"
     ]
    },
    {
     "name": "stdout",
     "output_type": "stream",
     "text": [
      "[May 29, 17:55:44] #> Loading the queries from /lfs/1/scheerer/datasets/lotte/lotte/lifestyle/dev/questions.search.tsv ...\n",
      "[May 29, 17:55:44] #> Got 417 queries. All QIDs are unique.\n",
      "\n"
     ]
    },
    {
     "name": "stderr",
     "output_type": "stream",
     "text": [
      "\n",
      "100%|███████████████████████████████████████████████████████████████████████████████████████████████████████████████████████████████| 417/417 [00:49<00:00,  8.50it/s]\n"
     ]
    },
    {
     "name": "stdout",
     "output_type": "stream",
     "text": [
      "[May 29, 17:56:33] #> Loading collection...\n",
      "0M \n",
      "[May 29, 17:56:35] #> Loading codec...\n",
      "[May 29, 17:56:35] #> Loading IVF...\n",
      "[May 29, 17:56:35] #> Loading doclens...\n"
     ]
    },
    {
     "name": "stderr",
     "output_type": "stream",
     "text": [
      "100%|████████████████████████████████████████████████████████████████████████████████████████████████████████████████████████████████| 11/11 [00:00<00:00, 385.76it/s]"
     ]
    },
    {
     "name": "stdout",
     "output_type": "stream",
     "text": [
      "[May 29, 17:56:35] #> Loading codes and residuals...\n"
     ]
    },
    {
     "name": "stderr",
     "output_type": "stream",
     "text": [
      "\n",
      "100%|█████████████████████████████████████████████████████████████████████████████████████████████████████████████████████████████████| 11/11 [00:00<00:00, 18.44it/s]"
     ]
    },
    {
     "name": "stdout",
     "output_type": "stream",
     "text": [
      "[May 29, 17:56:36] #> Loading the queries from /lfs/1/scheerer/datasets/lotte/lotte/lifestyle/dev/questions.search.tsv ...\n",
      "[May 29, 17:56:36] #> Got 417 queries. All QIDs are unique.\n",
      "\n"
     ]
    },
    {
     "name": "stderr",
     "output_type": "stream",
     "text": [
      "\n",
      "100%|███████████████████████████████████████████████████████████████████████████████████████████████████████████████████████████████| 417/417 [00:37<00:00, 11.10it/s]\n"
     ]
    },
    {
     "name": "stdout",
     "output_type": "stream",
     "text": [
      "[May 29, 17:57:14] #> Loading collection...\n",
      "0M \n",
      "[May 29, 17:57:16] #> Loading codec...\n",
      "[May 29, 17:57:16] #> Loading IVF...\n",
      "[May 29, 17:57:16] #> Loading doclens...\n"
     ]
    },
    {
     "name": "stderr",
     "output_type": "stream",
     "text": [
      "100%|████████████████████████████████████████████████████████████████████████████████████████████████████████████████████████████████| 11/11 [00:00<00:00, 887.09it/s]"
     ]
    },
    {
     "name": "stdout",
     "output_type": "stream",
     "text": [
      "[May 29, 17:57:16] #> Loading codes and residuals...\n"
     ]
    },
    {
     "name": "stderr",
     "output_type": "stream",
     "text": [
      "\n",
      "100%|█████████████████████████████████████████████████████████████████████████████████████████████████████████████████████████████████| 11/11 [00:00<00:00, 17.74it/s]"
     ]
    },
    {
     "name": "stdout",
     "output_type": "stream",
     "text": [
      "[May 29, 17:57:17] #> Loading the queries from /lfs/1/scheerer/datasets/lotte/lotte/lifestyle/dev/questions.search.tsv ...\n",
      "[May 29, 17:57:17] #> Got 417 queries. All QIDs are unique.\n",
      "\n"
     ]
    },
    {
     "name": "stderr",
     "output_type": "stream",
     "text": [
      "\n",
      "100%|███████████████████████████████████████████████████████████████████████████████████████████████████████████████████████████████| 417/417 [00:33<00:00, 12.46it/s]\n"
     ]
    },
    {
     "name": "stdout",
     "output_type": "stream",
     "text": [
      "[May 29, 17:57:50] #> Loading collection...\n",
      "0M \n",
      "[May 29, 17:57:52] #> Loading codec...\n",
      "[May 29, 17:57:52] #> Loading IVF...\n",
      "[May 29, 17:57:52] #> Loading doclens...\n"
     ]
    },
    {
     "name": "stderr",
     "output_type": "stream",
     "text": [
      "100%|████████████████████████████████████████████████████████████████████████████████████████████████████████████████████████████████| 11/11 [00:00<00:00, 353.09it/s]"
     ]
    },
    {
     "name": "stdout",
     "output_type": "stream",
     "text": [
      "[May 29, 17:57:52] #> Loading codes and residuals...\n"
     ]
    },
    {
     "name": "stderr",
     "output_type": "stream",
     "text": [
      "\n",
      "100%|█████████████████████████████████████████████████████████████████████████████████████████████████████████████████████████████████| 11/11 [00:02<00:00,  4.54it/s]"
     ]
    },
    {
     "name": "stdout",
     "output_type": "stream",
     "text": [
      "[May 29, 17:57:55] #> Loading the queries from /lfs/1/scheerer/datasets/lotte/lotte/lifestyle/dev/questions.search.tsv ...\n",
      "[May 29, 17:57:55] #> Got 417 queries. All QIDs are unique.\n",
      "\n"
     ]
    },
    {
     "name": "stderr",
     "output_type": "stream",
     "text": [
      "\n",
      "100%|███████████████████████████████████████████████████████████████████████████████████████████████████████████████████████████████| 417/417 [02:42<00:00,  2.56it/s]\n"
     ]
    },
    {
     "name": "stdout",
     "output_type": "stream",
     "text": [
      "[May 29, 18:00:38] #> Loading collection...\n",
      "0M \n",
      "[May 29, 18:00:40] #> Loading codec...\n",
      "[May 29, 18:00:40] #> Loading IVF...\n",
      "[May 29, 18:00:40] #> Loading doclens...\n"
     ]
    },
    {
     "name": "stderr",
     "output_type": "stream",
     "text": [
      "100%|████████████████████████████████████████████████████████████████████████████████████████████████████████████████████████████████| 11/11 [00:00<00:00, 357.34it/s]"
     ]
    },
    {
     "name": "stdout",
     "output_type": "stream",
     "text": [
      "[May 29, 18:00:40] #> Loading codes and residuals...\n"
     ]
    },
    {
     "name": "stderr",
     "output_type": "stream",
     "text": [
      "\n",
      "100%|█████████████████████████████████████████████████████████████████████████████████████████████████████████████████████████████████| 11/11 [00:01<00:00,  6.66it/s]"
     ]
    },
    {
     "name": "stdout",
     "output_type": "stream",
     "text": [
      "[May 29, 18:00:41] #> Loading the queries from /lfs/1/scheerer/datasets/lotte/lotte/lifestyle/dev/questions.search.tsv ...\n",
      "[May 29, 18:00:41] #> Got 417 queries. All QIDs are unique.\n",
      "\n"
     ]
    },
    {
     "name": "stderr",
     "output_type": "stream",
     "text": [
      "\n",
      "100%|███████████████████████████████████████████████████████████████████████████████████████████████████████████████████████████████| 417/417 [01:09<00:00,  5.97it/s]\n"
     ]
    },
    {
     "name": "stdout",
     "output_type": "stream",
     "text": [
      "[May 29, 18:01:52] #> Loading collection...\n",
      "0M \n",
      "[May 29, 18:01:53] #> Loading codec...\n",
      "[May 29, 18:01:53] #> Loading IVF...\n",
      "[May 29, 18:01:53] #> Loading doclens...\n"
     ]
    },
    {
     "name": "stderr",
     "output_type": "stream",
     "text": [
      "100%|████████████████████████████████████████████████████████████████████████████████████████████████████████████████████████████████| 11/11 [00:00<00:00, 376.19it/s]"
     ]
    },
    {
     "name": "stdout",
     "output_type": "stream",
     "text": [
      "[May 29, 18:01:53] #> Loading codes and residuals...\n"
     ]
    },
    {
     "name": "stderr",
     "output_type": "stream",
     "text": [
      "\n",
      "100%|█████████████████████████████████████████████████████████████████████████████████████████████████████████████████████████████████| 11/11 [00:01<00:00,  6.61it/s]"
     ]
    },
    {
     "name": "stdout",
     "output_type": "stream",
     "text": [
      "[May 29, 18:01:55] #> Loading the queries from /lfs/1/scheerer/datasets/lotte/lotte/lifestyle/dev/questions.search.tsv ...\n",
      "[May 29, 18:01:55] #> Got 417 queries. All QIDs are unique.\n",
      "\n"
     ]
    },
    {
     "name": "stderr",
     "output_type": "stream",
     "text": [
      "\n",
      "100%|███████████████████████████████████████████████████████████████████████████████████████████████████████████████████████████████| 417/417 [00:48<00:00,  8.57it/s]\n"
     ]
    },
    {
     "name": "stdout",
     "output_type": "stream",
     "text": [
      "[May 29, 18:02:44] #> Loading collection...\n",
      "0M \n",
      "[May 29, 18:02:46] #> Loading codec...\n",
      "[May 29, 18:02:46] #> Loading IVF...\n",
      "[May 29, 18:02:46] #> Loading doclens...\n"
     ]
    },
    {
     "name": "stderr",
     "output_type": "stream",
     "text": [
      "100%|████████████████████████████████████████████████████████████████████████████████████████████████████████████████████████████████| 11/11 [00:00<00:00, 465.85it/s]"
     ]
    },
    {
     "name": "stdout",
     "output_type": "stream",
     "text": [
      "[May 29, 18:02:46] #> Loading codes and residuals...\n"
     ]
    },
    {
     "name": "stderr",
     "output_type": "stream",
     "text": [
      "\n",
      "100%|█████████████████████████████████████████████████████████████████████████████████████████████████████████████████████████████████| 11/11 [00:01<00:00,  7.15it/s]"
     ]
    },
    {
     "name": "stdout",
     "output_type": "stream",
     "text": [
      "[May 29, 18:02:48] #> Loading the queries from /lfs/1/scheerer/datasets/lotte/lotte/lifestyle/dev/questions.search.tsv ...\n",
      "[May 29, 18:02:48] #> Got 417 queries. All QIDs are unique.\n",
      "\n"
     ]
    },
    {
     "name": "stderr",
     "output_type": "stream",
     "text": [
      "\n",
      "100%|███████████████████████████████████████████████████████████████████████████████████████████████████████████████████████████████| 417/417 [00:37<00:00, 11.25it/s]\n"
     ]
    },
    {
     "name": "stdout",
     "output_type": "stream",
     "text": [
      "[May 29, 18:03:25] #> Loading collection...\n",
      "0M \n",
      "[May 29, 18:03:29] #> Loading codec...\n",
      "[May 29, 18:03:29] #> Loading IVF...\n",
      "[May 29, 18:03:29] #> Loading doclens...\n"
     ]
    },
    {
     "name": "stderr",
     "output_type": "stream",
     "text": [
      "100%|████████████████████████████████████████████████████████████████████████████████████████████████████████████████████████████████| 11/11 [00:00<00:00, 429.48it/s]"
     ]
    },
    {
     "name": "stdout",
     "output_type": "stream",
     "text": [
      "[May 29, 18:03:29] #> Loading codes and residuals...\n"
     ]
    },
    {
     "name": "stderr",
     "output_type": "stream",
     "text": [
      "\n",
      "100%|█████████████████████████████████████████████████████████████████████████████████████████████████████████████████████████████████| 11/11 [00:01<00:00, 10.63it/s]"
     ]
    },
    {
     "name": "stdout",
     "output_type": "stream",
     "text": [
      "[May 29, 18:03:30] #> Loading the queries from /lfs/1/scheerer/datasets/lotte/lotte/lifestyle/dev/questions.search.tsv ...\n",
      "[May 29, 18:03:30] #> Got 417 queries. All QIDs are unique.\n",
      "\n"
     ]
    },
    {
     "name": "stderr",
     "output_type": "stream",
     "text": [
      "\n",
      "100%|███████████████████████████████████████████████████████████████████████████████████████████████████████████████████████████████| 417/417 [00:35<00:00, 11.81it/s]\n"
     ]
    },
    {
     "name": "stdout",
     "output_type": "stream",
     "text": [
      "[May 29, 18:04:05] #> Loading collection...\n",
      "0M \n",
      "[May 29, 18:04:07] #> Loading codec...\n",
      "[May 29, 18:04:07] #> Loading IVF...\n",
      "[May 29, 18:04:07] #> Loading doclens...\n"
     ]
    },
    {
     "name": "stderr",
     "output_type": "stream",
     "text": [
      "100%|████████████████████████████████████████████████████████████████████████████████████████████████████████████████████████████████| 11/11 [00:00<00:00, 329.17it/s]"
     ]
    },
    {
     "name": "stdout",
     "output_type": "stream",
     "text": [
      "[May 29, 18:04:07] #> Loading codes and residuals...\n"
     ]
    },
    {
     "name": "stderr",
     "output_type": "stream",
     "text": [
      "\n",
      "100%|█████████████████████████████████████████████████████████████████████████████████████████████████████████████████████████████████| 11/11 [00:03<00:00,  3.15it/s]"
     ]
    },
    {
     "name": "stdout",
     "output_type": "stream",
     "text": [
      "[May 29, 18:04:11] #> Loading the queries from /lfs/1/scheerer/datasets/lotte/lotte/lifestyle/dev/questions.search.tsv ...\n",
      "[May 29, 18:04:11] #> Got 417 queries. All QIDs are unique.\n",
      "\n"
     ]
    },
    {
     "name": "stderr",
     "output_type": "stream",
     "text": [
      "\n",
      "100%|███████████████████████████████████████████████████████████████████████████████████████████████████████████████████████████████| 417/417 [02:43<00:00,  2.55it/s]\n"
     ]
    },
    {
     "name": "stdout",
     "output_type": "stream",
     "text": [
      "[May 29, 18:06:56] #> Loading collection...\n",
      "0M \n",
      "[May 29, 18:06:59] #> Loading codec...\n",
      "[May 29, 18:06:59] #> Loading IVF...\n",
      "[May 29, 18:06:59] #> Loading doclens...\n"
     ]
    },
    {
     "name": "stderr",
     "output_type": "stream",
     "text": [
      "100%|████████████████████████████████████████████████████████████████████████████████████████████████████████████████████████████████| 11/11 [00:00<00:00, 313.13it/s]"
     ]
    },
    {
     "name": "stdout",
     "output_type": "stream",
     "text": [
      "[May 29, 18:06:59] #> Loading codes and residuals...\n"
     ]
    },
    {
     "name": "stderr",
     "output_type": "stream",
     "text": [
      "\n",
      "100%|█████████████████████████████████████████████████████████████████████████████████████████████████████████████████████████████████| 11/11 [00:02<00:00,  4.82it/s]"
     ]
    },
    {
     "name": "stdout",
     "output_type": "stream",
     "text": [
      "[May 29, 18:07:01] #> Loading the queries from /lfs/1/scheerer/datasets/lotte/lotte/lifestyle/dev/questions.search.tsv ...\n",
      "[May 29, 18:07:01] #> Got 417 queries. All QIDs are unique.\n",
      "\n"
     ]
    },
    {
     "name": "stderr",
     "output_type": "stream",
     "text": [
      "\n",
      "100%|███████████████████████████████████████████████████████████████████████████████████████████████████████████████████████████████| 417/417 [01:11<00:00,  5.80it/s]\n"
     ]
    },
    {
     "name": "stdout",
     "output_type": "stream",
     "text": [
      "[May 29, 18:08:14] #> Loading collection...\n",
      "0M \n",
      "[May 29, 18:08:16] #> Loading codec...\n",
      "[May 29, 18:08:16] #> Loading IVF...\n",
      "[May 29, 18:08:16] #> Loading doclens...\n"
     ]
    },
    {
     "name": "stderr",
     "output_type": "stream",
     "text": [
      "100%|████████████████████████████████████████████████████████████████████████████████████████████████████████████████████████████████| 11/11 [00:00<00:00, 286.06it/s]"
     ]
    },
    {
     "name": "stdout",
     "output_type": "stream",
     "text": [
      "[May 29, 18:08:16] #> Loading codes and residuals...\n"
     ]
    },
    {
     "name": "stderr",
     "output_type": "stream",
     "text": [
      "\n",
      "100%|█████████████████████████████████████████████████████████████████████████████████████████████████████████████████████████████████| 11/11 [00:02<00:00,  4.25it/s]"
     ]
    },
    {
     "name": "stdout",
     "output_type": "stream",
     "text": [
      "[May 29, 18:08:18] #> Loading the queries from /lfs/1/scheerer/datasets/lotte/lotte/lifestyle/dev/questions.search.tsv ...\n",
      "[May 29, 18:08:18] #> Got 417 queries. All QIDs are unique.\n",
      "\n"
     ]
    },
    {
     "name": "stderr",
     "output_type": "stream",
     "text": [
      "\n",
      "100%|███████████████████████████████████████████████████████████████████████████████████████████████████████████████████████████████| 417/417 [00:49<00:00,  8.35it/s]\n"
     ]
    },
    {
     "name": "stdout",
     "output_type": "stream",
     "text": [
      "[May 29, 18:09:09] #> Loading collection...\n",
      "0M \n",
      "[May 29, 18:09:10] #> Loading codec...\n",
      "[May 29, 18:09:10] #> Loading IVF...\n",
      "[May 29, 18:09:11] #> Loading doclens...\n"
     ]
    },
    {
     "name": "stderr",
     "output_type": "stream",
     "text": [
      "100%|████████████████████████████████████████████████████████████████████████████████████████████████████████████████████████████████| 11/11 [00:00<00:00, 373.92it/s]"
     ]
    },
    {
     "name": "stdout",
     "output_type": "stream",
     "text": [
      "[May 29, 18:09:11] #> Loading codes and residuals...\n"
     ]
    },
    {
     "name": "stderr",
     "output_type": "stream",
     "text": [
      "\n",
      "100%|█████████████████████████████████████████████████████████████████████████████████████████████████████████████████████████████████| 11/11 [00:01<00:00,  5.80it/s]"
     ]
    },
    {
     "name": "stdout",
     "output_type": "stream",
     "text": [
      "[May 29, 18:09:12] #> Loading the queries from /lfs/1/scheerer/datasets/lotte/lotte/lifestyle/dev/questions.search.tsv ...\n",
      "[May 29, 18:09:12] #> Got 417 queries. All QIDs are unique.\n",
      "\n"
     ]
    },
    {
     "name": "stderr",
     "output_type": "stream",
     "text": [
      "\n",
      "100%|███████████████████████████████████████████████████████████████████████████████████████████████████████████████████████████████| 417/417 [00:38<00:00, 10.72it/s]\n"
     ]
    },
    {
     "name": "stdout",
     "output_type": "stream",
     "text": [
      "[May 29, 18:09:52] #> Loading collection...\n",
      "0M \n",
      "[May 29, 18:09:54] #> Loading codec...\n",
      "[May 29, 18:09:54] #> Loading IVF...\n",
      "[May 29, 18:09:54] #> Loading doclens...\n"
     ]
    },
    {
     "name": "stderr",
     "output_type": "stream",
     "text": [
      "100%|████████████████████████████████████████████████████████████████████████████████████████████████████████████████████████████████| 11/11 [00:00<00:00, 665.18it/s]"
     ]
    },
    {
     "name": "stdout",
     "output_type": "stream",
     "text": [
      "[May 29, 18:09:54] #> Loading codes and residuals...\n"
     ]
    },
    {
     "name": "stderr",
     "output_type": "stream",
     "text": [
      "\n",
      "100%|█████████████████████████████████████████████████████████████████████████████████████████████████████████████████████████████████| 11/11 [00:01<00:00,  6.00it/s]"
     ]
    },
    {
     "name": "stdout",
     "output_type": "stream",
     "text": [
      "[May 29, 18:09:56] #> Loading the queries from /lfs/1/scheerer/datasets/lotte/lotte/lifestyle/dev/questions.search.tsv ...\n",
      "[May 29, 18:09:56] #> Got 417 queries. All QIDs are unique.\n",
      "\n"
     ]
    },
    {
     "name": "stderr",
     "output_type": "stream",
     "text": [
      "\n",
      "100%|███████████████████████████████████████████████████████████████████████████████████████████████████████████████████████████████| 417/417 [00:35<00:00, 11.83it/s]\n"
     ]
    },
    {
     "name": "stdout",
     "output_type": "stream",
     "text": [
      "[May 29, 18:10:31] #> Loading collection...\n",
      "0M \n",
      "[May 29, 18:10:33] #> Loading codec...\n",
      "[May 29, 18:10:33] #> Loading IVF...\n",
      "[May 29, 18:10:33] #> Loading doclens...\n"
     ]
    },
    {
     "name": "stderr",
     "output_type": "stream",
     "text": [
      "100%|██████████████████████████████████████████████████████████████████████████████████████████████████████████████████████████████████| 5/5 [00:00<00:00, 248.60it/s]"
     ]
    },
    {
     "name": "stdout",
     "output_type": "stream",
     "text": [
      "[May 29, 18:10:33] #> Loading codes and residuals...\n"
     ]
    },
    {
     "name": "stderr",
     "output_type": "stream",
     "text": [
      "\n",
      "100%|███████████████████████████████████████████████████████████████████████████████████████████████████████████████████████████████████| 5/5 [00:00<00:00, 13.33it/s]"
     ]
    },
    {
     "name": "stdout",
     "output_type": "stream",
     "text": [
      "[May 29, 18:10:33] #> Loading the queries from /lfs/1/scheerer/datasets/lotte/lotte/lifestyle/test/questions.search.tsv ...\n",
      "[May 29, 18:10:33] #> Got 661 queries. All QIDs are unique.\n",
      "\n"
     ]
    },
    {
     "name": "stderr",
     "output_type": "stream",
     "text": [
      "\n",
      " 52%|█████████████████████████████████████████████████████████████████▌                                                             | 341/661 [01:37<01:31,  3.50it/s]\n"
     ]
    },
    {
     "ename": "KeyboardInterrupt",
     "evalue": "",
     "output_type": "error",
     "traceback": [
      "\u001b[0;31m---------------------------------------------------------------------------\u001b[0m",
      "\u001b[0;31mKeyboardInterrupt\u001b[0m                         Traceback (most recent call last)",
      "Cell \u001b[0;32mIn[11], line 16\u001b[0m\n\u001b[1;32m     14\u001b[0m setup_num_threads(threads)\n\u001b[1;32m     15\u001b[0m config \u001b[38;5;241m=\u001b[39m make_config(collection\u001b[38;5;241m=\u001b[39mcollection, datasplit\u001b[38;5;241m=\u001b[39msplit, nbits\u001b[38;5;241m=\u001b[39mnbits, k\u001b[38;5;241m=\u001b[39mk)\n\u001b[0;32m---> 16\u001b[0m tracker \u001b[38;5;241m=\u001b[39m \u001b[43msearch\u001b[49m\u001b[43m(\u001b[49m\u001b[43mconfig\u001b[49m\u001b[43m,\u001b[49m\u001b[43m \u001b[49m\u001b[43mbatch_queries\u001b[49m\u001b[38;5;241;43m=\u001b[39;49m\u001b[38;5;28;43;01mFalse\u001b[39;49;00m\u001b[43m)\u001b[49m\n\u001b[1;32m     18\u001b[0m result \u001b[38;5;241m=\u001b[39m {\u001b[38;5;124m'\u001b[39m\u001b[38;5;124mconfig\u001b[39m\u001b[38;5;124m'\u001b[39m: {\u001b[38;5;124m'\u001b[39m\u001b[38;5;124mcollection\u001b[39m\u001b[38;5;124m'\u001b[39m: collection, \u001b[38;5;124m'\u001b[39m\u001b[38;5;124msplit\u001b[39m\u001b[38;5;124m'\u001b[39m: split, \u001b[38;5;124m'\u001b[39m\u001b[38;5;124mnbits\u001b[39m\u001b[38;5;124m'\u001b[39m: nbits, \u001b[38;5;124m'\u001b[39m\u001b[38;5;124mk\u001b[39m\u001b[38;5;124m'\u001b[39m: k}}\n\u001b[1;32m     19\u001b[0m result[\u001b[38;5;124m'\u001b[39m\u001b[38;5;124mtracker\u001b[39m\u001b[38;5;124m'\u001b[39m] \u001b[38;5;241m=\u001b[39m tracker\u001b[38;5;241m.\u001b[39mas_dict()\n",
      "File \u001b[0;32m~/development/ColBERT-XTR/xtr_via_plaid.py:101\u001b[0m, in \u001b[0;36msearch\u001b[0;34m(config, batch_queries)\u001b[0m\n\u001b[1;32m     99\u001b[0m \u001b[38;5;28;01mfor\u001b[39;00m query_id, query_text \u001b[38;5;129;01min\u001b[39;00m tqdm(queries):\n\u001b[1;32m    100\u001b[0m     tracker\u001b[38;5;241m.\u001b[39mnext_iteration()\n\u001b[0;32m--> 101\u001b[0m     ranking \u001b[38;5;241m=\u001b[39m \u001b[43msearcher\u001b[49m\u001b[38;5;241;43m.\u001b[39;49m\u001b[43msearch\u001b[49m\u001b[43m(\u001b[49m\u001b[43mquery_text\u001b[49m\u001b[43m,\u001b[49m\u001b[43m \u001b[49m\u001b[43mk\u001b[49m\u001b[38;5;241;43m=\u001b[39;49m\u001b[38;5;241;43m100\u001b[39;49m\u001b[43m,\u001b[49m\u001b[43m \u001b[49m\u001b[43mtracker\u001b[49m\u001b[38;5;241;43m=\u001b[39;49m\u001b[43mtracker\u001b[49m\u001b[43m)\u001b[49m\n\u001b[1;32m    102\u001b[0m     tracker\u001b[38;5;241m.\u001b[39mend_iteration()\n\u001b[1;32m    103\u001b[0m     collection_map_path \u001b[38;5;241m=\u001b[39m os\u001b[38;5;241m.\u001b[39mpath\u001b[38;5;241m.\u001b[39mjoin(os\u001b[38;5;241m.\u001b[39mpath\u001b[38;5;241m.\u001b[39mdirname(config\u001b[38;5;241m.\u001b[39mcollection_path), \u001b[38;5;124m\"\u001b[39m\u001b[38;5;124mcollection_map.json\u001b[39m\u001b[38;5;124m\"\u001b[39m)\n",
      "File \u001b[0;32m~/development/ColBERT-XTR/colbert/searcher.py:71\u001b[0m, in \u001b[0;36mSearcher.search\u001b[0;34m(self, text, k, filter_fn, full_length_search, pids, tracker)\u001b[0m\n\u001b[1;32m     69\u001b[0m Q \u001b[38;5;241m=\u001b[39m \u001b[38;5;28mself\u001b[39m\u001b[38;5;241m.\u001b[39mencode(text, full_length_search\u001b[38;5;241m=\u001b[39mfull_length_search)\n\u001b[1;32m     70\u001b[0m tracker\u001b[38;5;241m.\u001b[39mend(\u001b[38;5;124m\"\u001b[39m\u001b[38;5;124mQuery Encoding\u001b[39m\u001b[38;5;124m\"\u001b[39m)\n\u001b[0;32m---> 71\u001b[0m \u001b[38;5;28;01mreturn\u001b[39;00m \u001b[38;5;28;43mself\u001b[39;49m\u001b[38;5;241;43m.\u001b[39;49m\u001b[43mdense_search\u001b[49m\u001b[43m(\u001b[49m\u001b[43mQ\u001b[49m\u001b[43m,\u001b[49m\u001b[43m \u001b[49m\u001b[43mk\u001b[49m\u001b[43m,\u001b[49m\u001b[43m \u001b[49m\u001b[43mfilter_fn\u001b[49m\u001b[38;5;241;43m=\u001b[39;49m\u001b[43mfilter_fn\u001b[49m\u001b[43m,\u001b[49m\u001b[43m \u001b[49m\u001b[43mpids\u001b[49m\u001b[38;5;241;43m=\u001b[39;49m\u001b[43mpids\u001b[49m\u001b[43m,\u001b[49m\u001b[43m \u001b[49m\u001b[43mtracker\u001b[49m\u001b[38;5;241;43m=\u001b[39;49m\u001b[43mtracker\u001b[49m\u001b[43m)\u001b[49m\n",
      "File \u001b[0;32m~/development/ColBERT-XTR/colbert/searcher.py:133\u001b[0m, in \u001b[0;36mSearcher.dense_search\u001b[0;34m(self, Q, k, filter_fn, pids, tracker)\u001b[0m\n\u001b[1;32m    130\u001b[0m     \u001b[38;5;28;01mif\u001b[39;00m \u001b[38;5;28mself\u001b[39m\u001b[38;5;241m.\u001b[39mconfig\u001b[38;5;241m.\u001b[39mndocs \u001b[38;5;129;01mis\u001b[39;00m \u001b[38;5;28;01mNone\u001b[39;00m:\n\u001b[1;32m    131\u001b[0m         \u001b[38;5;28mself\u001b[39m\u001b[38;5;241m.\u001b[39mconfigure(ndocs\u001b[38;5;241m=\u001b[39m\u001b[38;5;28mmax\u001b[39m(k \u001b[38;5;241m*\u001b[39m \u001b[38;5;241m4\u001b[39m, \u001b[38;5;241m4096\u001b[39m))\n\u001b[0;32m--> 133\u001b[0m pids, scores \u001b[38;5;241m=\u001b[39m \u001b[38;5;28;43mself\u001b[39;49m\u001b[38;5;241;43m.\u001b[39;49m\u001b[43mranker\u001b[49m\u001b[38;5;241;43m.\u001b[39;49m\u001b[43mrank\u001b[49m\u001b[43m(\u001b[49m\u001b[38;5;28;43mself\u001b[39;49m\u001b[38;5;241;43m.\u001b[39;49m\u001b[43mconfig\u001b[49m\u001b[43m,\u001b[49m\u001b[43m \u001b[49m\u001b[43mQ\u001b[49m\u001b[43m,\u001b[49m\u001b[43m \u001b[49m\u001b[43mfilter_fn\u001b[49m\u001b[38;5;241;43m=\u001b[39;49m\u001b[43mfilter_fn\u001b[49m\u001b[43m,\u001b[49m\u001b[43m \u001b[49m\u001b[43mpids\u001b[49m\u001b[38;5;241;43m=\u001b[39;49m\u001b[43mpids\u001b[49m\u001b[43m,\u001b[49m\u001b[43m \u001b[49m\u001b[43mtracker\u001b[49m\u001b[38;5;241;43m=\u001b[39;49m\u001b[43mtracker\u001b[49m\u001b[43m)\u001b[49m\n\u001b[1;32m    135\u001b[0m \u001b[38;5;28;01mreturn\u001b[39;00m pids[:k], \u001b[38;5;28mlist\u001b[39m(\u001b[38;5;28mrange\u001b[39m(\u001b[38;5;241m1\u001b[39m, k\u001b[38;5;241m+\u001b[39m\u001b[38;5;241m1\u001b[39m)), scores[:k]\n",
      "File \u001b[0;32m~/development/ColBERT-XTR/colbert/search/index_storage.py:107\u001b[0m, in \u001b[0;36mIndexScorer.rank\u001b[0;34m(self, config, Q, filter_fn, pids, tracker)\u001b[0m\n\u001b[1;32m    104\u001b[0m     \u001b[38;5;28;01mif\u001b[39;00m \u001b[38;5;28mlen\u001b[39m(pids) \u001b[38;5;241m==\u001b[39m \u001b[38;5;241m0\u001b[39m:\n\u001b[1;32m    105\u001b[0m         \u001b[38;5;28;01mreturn\u001b[39;00m [], []\n\u001b[0;32m--> 107\u001b[0m scores, pids \u001b[38;5;241m=\u001b[39m \u001b[38;5;28;43mself\u001b[39;49m\u001b[38;5;241;43m.\u001b[39;49m\u001b[43mscore_pids\u001b[49m\u001b[43m(\u001b[49m\u001b[43mconfig\u001b[49m\u001b[43m,\u001b[49m\u001b[43m \u001b[49m\u001b[43mQ\u001b[49m\u001b[43m,\u001b[49m\u001b[43m \u001b[49m\u001b[43mpids\u001b[49m\u001b[43m,\u001b[49m\u001b[43m \u001b[49m\u001b[43mcentroid_scores\u001b[49m\u001b[43m,\u001b[49m\u001b[43m \u001b[49m\u001b[43mtracker\u001b[49m\u001b[38;5;241;43m=\u001b[39;49m\u001b[43mtracker\u001b[49m\u001b[43m)\u001b[49m\n\u001b[1;32m    109\u001b[0m tracker\u001b[38;5;241m.\u001b[39mbegin(\u001b[38;5;124m\"\u001b[39m\u001b[38;5;124mSorting\u001b[39m\u001b[38;5;124m\"\u001b[39m)\n\u001b[1;32m    110\u001b[0m scores_sorter \u001b[38;5;241m=\u001b[39m scores\u001b[38;5;241m.\u001b[39msort(descending\u001b[38;5;241m=\u001b[39m\u001b[38;5;28;01mTrue\u001b[39;00m)\n",
      "File \u001b[0;32m~/development/ColBERT-XTR/colbert/search/index_storage.py:179\u001b[0m, in \u001b[0;36mIndexScorer.score_pids\u001b[0;34m(self, config, Q, pids, centroid_scores, tracker)\u001b[0m\n\u001b[1;32m    177\u001b[0m     D_packed, D_mask \u001b[38;5;241m=\u001b[39m \u001b[38;5;28mself\u001b[39m\u001b[38;5;241m.\u001b[39mlookup_pids(pids)\n\u001b[1;32m    178\u001b[0m \u001b[38;5;28;01melse\u001b[39;00m:\n\u001b[0;32m--> 179\u001b[0m     D_packed \u001b[38;5;241m=\u001b[39m \u001b[43mIndexScorer\u001b[49m\u001b[38;5;241;43m.\u001b[39;49m\u001b[43mdecompress_residuals\u001b[49m\u001b[43m(\u001b[49m\n\u001b[1;32m    180\u001b[0m \u001b[43m            \u001b[49m\u001b[43mpids\u001b[49m\u001b[43m,\u001b[49m\n\u001b[1;32m    181\u001b[0m \u001b[43m            \u001b[49m\u001b[38;5;28;43mself\u001b[39;49m\u001b[38;5;241;43m.\u001b[39;49m\u001b[43mdoclens\u001b[49m\u001b[43m,\u001b[49m\n\u001b[1;32m    182\u001b[0m \u001b[43m            \u001b[49m\u001b[38;5;28;43mself\u001b[39;49m\u001b[38;5;241;43m.\u001b[39;49m\u001b[43moffsets\u001b[49m\u001b[43m,\u001b[49m\n\u001b[1;32m    183\u001b[0m \u001b[43m            \u001b[49m\u001b[38;5;28;43mself\u001b[39;49m\u001b[38;5;241;43m.\u001b[39;49m\u001b[43mcodec\u001b[49m\u001b[38;5;241;43m.\u001b[39;49m\u001b[43mbucket_weights\u001b[49m\u001b[43m,\u001b[49m\n\u001b[1;32m    184\u001b[0m \u001b[43m            \u001b[49m\u001b[38;5;28;43mself\u001b[39;49m\u001b[38;5;241;43m.\u001b[39;49m\u001b[43mcodec\u001b[49m\u001b[38;5;241;43m.\u001b[39;49m\u001b[43mreversed_bit_map\u001b[49m\u001b[43m,\u001b[49m\n\u001b[1;32m    185\u001b[0m \u001b[43m            \u001b[49m\u001b[38;5;28;43mself\u001b[39;49m\u001b[38;5;241;43m.\u001b[39;49m\u001b[43mcodec\u001b[49m\u001b[38;5;241;43m.\u001b[39;49m\u001b[43mdecompression_lookup_table\u001b[49m\u001b[43m,\u001b[49m\n\u001b[1;32m    186\u001b[0m \u001b[43m            \u001b[49m\u001b[38;5;28;43mself\u001b[39;49m\u001b[38;5;241;43m.\u001b[39;49m\u001b[43membeddings\u001b[49m\u001b[38;5;241;43m.\u001b[39;49m\u001b[43mresiduals\u001b[49m\u001b[43m,\u001b[49m\n\u001b[1;32m    187\u001b[0m \u001b[43m            \u001b[49m\u001b[38;5;28;43mself\u001b[39;49m\u001b[38;5;241;43m.\u001b[39;49m\u001b[43membeddings\u001b[49m\u001b[38;5;241;43m.\u001b[39;49m\u001b[43mcodes\u001b[49m\u001b[43m,\u001b[49m\n\u001b[1;32m    188\u001b[0m \u001b[43m            \u001b[49m\u001b[38;5;28;43mself\u001b[39;49m\u001b[38;5;241;43m.\u001b[39;49m\u001b[43mcodec\u001b[49m\u001b[38;5;241;43m.\u001b[39;49m\u001b[43mcentroids\u001b[49m\u001b[43m,\u001b[49m\n\u001b[1;32m    189\u001b[0m \u001b[43m            \u001b[49m\u001b[38;5;28;43mself\u001b[39;49m\u001b[38;5;241;43m.\u001b[39;49m\u001b[43mcodec\u001b[49m\u001b[38;5;241;43m.\u001b[39;49m\u001b[43mdim\u001b[49m\u001b[43m,\u001b[49m\n\u001b[1;32m    190\u001b[0m \u001b[43m            \u001b[49m\u001b[38;5;28;43mself\u001b[39;49m\u001b[38;5;241;43m.\u001b[39;49m\u001b[43mcodec\u001b[49m\u001b[38;5;241;43m.\u001b[39;49m\u001b[43mnbits\u001b[49m\n\u001b[1;32m    191\u001b[0m \u001b[43m        \u001b[49m\u001b[43m)\u001b[49m\n\u001b[1;32m    192\u001b[0m     D_packed \u001b[38;5;241m=\u001b[39m torch\u001b[38;5;241m.\u001b[39mnn\u001b[38;5;241m.\u001b[39mfunctional\u001b[38;5;241m.\u001b[39mnormalize(D_packed\u001b[38;5;241m.\u001b[39mto(torch\u001b[38;5;241m.\u001b[39mfloat32), p\u001b[38;5;241m=\u001b[39m\u001b[38;5;241m2\u001b[39m, dim\u001b[38;5;241m=\u001b[39m\u001b[38;5;241m-\u001b[39m\u001b[38;5;241m1\u001b[39m)\n\u001b[1;32m    193\u001b[0m     D_mask \u001b[38;5;241m=\u001b[39m \u001b[38;5;28mself\u001b[39m\u001b[38;5;241m.\u001b[39mdoclens[pids\u001b[38;5;241m.\u001b[39mlong()]\n",
      "\u001b[0;31mKeyboardInterrupt\u001b[0m: "
     ]
    }
   ],
   "source": [
    "from xtr_via_plaid import search\n",
    "import itertools\n",
    "from tqdm import tqdm\n",
    "import json\n",
    "\n",
    "root_dir = \"latency/xtr\"\n",
    "os.makedirs(root_dir, exist_ok=True)\n",
    "\n",
    "for collection, split, nbits, k, threads in itertools.product(COLLECTIONS, DATASPLITS, NBITS, K, THREADS):\n",
    "    filename = f\"{collection}_split={split}_nbits={nbits}_k={k}_threads={threads}.json\"\n",
    "    if os.path.exists(os.path.join(root_dir, filename)):\n",
    "        print(f\"Skipping: {collection} {split} {nbits} {k} {threads}\")\n",
    "        continue\n",
    "    setup_num_threads(threads)\n",
    "    config = make_config(collection=collection, datasplit=split, nbits=nbits, k=k)\n",
    "    tracker = search(config, batch_queries=False)\n",
    "\n",
    "    result = {'config': {'collection': collection, 'split': split, 'nbits': nbits, 'k': k}}\n",
    "    result['tracker'] = tracker.as_dict()\n",
    "    # Note \"hacky\" way to change the name of the tracker\n",
    "    result['tracker']['name'] = f\"XTR/PLAID [baseline, {collection} ({split}, nbits={nbits}), k={k}, threads={threads}]\"\n",
    "\n",
    "    with open(os.path.join(root_dir, filename), \"w\") as file:\n",
    "        file.write(json.dumps(result))"
   ]
  },
  {
   "cell_type": "code",
   "execution_count": 5,
   "id": "495acc10-8c31-45ab-a21a-eb1a18e9eb01",
   "metadata": {},
   "outputs": [
    {
     "data": {
      "image/png": "[encoded data removed]",
      "text/plain": [
       "<Figure size 1000x200 with 1 Axes>"
      ]
     },
     "metadata": {},
     "output_type": "display_data"
    }
   ],
   "source": [
    "from colbert.utils.tracker import ExecutionTracker\n",
    "\n",
    "ExecutionTracker.from_dict(results[0][\"tracker\"]).display()"
   ]
  }
 ],
 "metadata": {
  "kernelspec": {
   "display_name": "Python 3 (ipykernel)",
   "language": "python",
   "name": "python3"
  },
  "language_info": {
   "codemirror_mode": {
    "name": "ipython",
    "version": 3
   },
   "file_extension": ".py",
   "mimetype": "text/x-python",
   "name": "python",
   "nbconvert_exporter": "python",
   "pygments_lexer": "ipython3",
   "version": "3.8.19"
  }
 },
 "nbformat": 4,
 "nbformat_minor": 5
}
