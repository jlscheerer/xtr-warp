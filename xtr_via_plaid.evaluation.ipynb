{
 "cells": [
  {
   "cell_type": "code",
   "execution_count": 1,
   "id": "4c8928f9-2cc5-48b3-ac2e-69fe93daf0b4",
   "metadata": {},
   "outputs": [],
   "source": [
    "from xtr_via_plaid import search, XTRRunConfig\n",
    "from evaluation.evaluate_lotte_rankings import evaluate_dataset"
   ]
  },
  {
   "cell_type": "code",
   "execution_count": 2,
   "id": "30dc6a72-62d5-4c31-8d3a-45d62be0c199",
   "metadata": {},
   "outputs": [],
   "source": [
    "def make_config(collection, datasplit, nbits, k):\n",
    "    return XTRRunConfig(nranks=4, dataset=\"lotte\", collection=collection,\n",
    "                    type_=\"search\", datasplit=datasplit, nbits=nbits, k=k)"
   ]
  },
  {
   "cell_type": "code",
   "execution_count": 3,
   "id": "c88f9967-2fe6-44a7-9848-0505b441d61c",
   "metadata": {},
   "outputs": [],
   "source": [
    "COLLECTIONS = [\"lifestyle\", \"pooled\", \"recreation\", \"science\", \"technology\", \"writing\"]\n",
    "DATASPLITS = [\"dev\", \"test\"]\n",
    "NBITS = [1, 2, 4]\n",
    "K = [100]"
   ]
  },
  {
   "cell_type": "code",
   "execution_count": 4,
   "id": "92fbe86c-69d2-4c17-8a6d-0432cf7101d4",
   "metadata": {},
   "outputs": [
    {
     "data": {
      "text/plain": [
       "True"
      ]
     },
     "execution_count": 4,
     "metadata": {},
     "output_type": "execute_result"
    }
   ],
   "source": [
    "import os\n",
    "\n",
    "os.path.exists(\"results.json\")"
   ]
  },
  {
   "cell_type": "code",
   "execution_count": 5,
   "id": "84809c28-69f7-4bd3-b110-bd62bb9567cf",
   "metadata": {},
   "outputs": [],
   "source": [
    "import itertools\n",
    "from tqdm import tqdm\n",
    "import json\n",
    "import os\n",
    "\n",
    "if not os.path.exists(\"results.json\"):\n",
    "    results = []\n",
    "    for collection, split, nbits, k in tqdm(itertools.product(COLLECTIONS, DATASPLITS, NBITS, K)):\n",
    "        config = make_config(collection=collection, datasplit=split, nbits=nbits, k=k)\n",
    "        rankings_path = search(config)\n",
    "    \n",
    "        # NOTE For now always (just) evaluate S@5\n",
    "        result = evaluate_dataset(rankings_path, collection, split, k=5)\n",
    "        result['config'] = {'collection': collection, 'split': split, 'nbits': nbits, 'k': k}\n",
    "        results.append(result)\n",
    "    \n",
    "    with open(\"results.json\", \"w\") as file:\n",
    "        file.write(json.dumps(results))\n",
    "else:\n",
    "    with open(\"results.json\", \"r\") as file:\n",
    "        results = json.loads(file.read())"
   ]
  },
  {
   "cell_type": "code",
   "execution_count": 59,
   "id": "24b39a1c-5bde-4722-a28c-c5a914190e8e",
   "metadata": {},
   "outputs": [
    {
     "data": {
      "text/html": [
       "<table border=\"1\" class=\"dataframe\">\n",
       "  <thead>\n",
       "    <tr style=\"text-align: right;\">\n",
       "      <th></th>\n",
       "      <th>dataset</th>\n",
       "      <th>XTR-base</th>\n",
       "      <th>XTR-xxl</th>\n",
       "      <th>S@5 (nbits=1)</th>\n",
       "      <th>S@5 (nbits=2)</th>\n",
       "      <th>S@5 (nbits=4)</th>\n",
       "      <th>ColBERT</th>\n",
       "      <th>ColBERTv2</th>\n",
       "    </tr>\n",
       "  </thead>\n",
       "  <tbody>\n",
       "    <tr>\n",
       "      <th>0</th>\n",
       "      <td>lifestyle</td>\n",
       "      <td>82.1</td>\n",
       "      <td>89.1</td>\n",
       "      <td>81.1 (<span style='color:red'>+ -1.0</span>)</td>\n",
       "      <td>83.2 (<span style='color:green'>+ 1.1</span>)</td>\n",
       "      <td>82.9 (<span style='color:green'>+ 0.8</span>)</td>\n",
       "      <td>80.2</td>\n",
       "      <td>84.7</td>\n",
       "    </tr>\n",
       "    <tr>\n",
       "      <th>1</th>\n",
       "      <td>pooled</td>\n",
       "      <td>69.0</td>\n",
       "      <td>77.3</td>\n",
       "      <td>65.4 (<span style='color:red'>+ -3.6</span>)</td>\n",
       "      <td>68.3 (<span style='color:red'>+ -0.7</span>)</td>\n",
       "      <td>69.2 (<span style='color:green'>+ 0.2</span>)</td>\n",
       "      <td>67.3</td>\n",
       "      <td>71.6</td>\n",
       "    </tr>\n",
       "    <tr>\n",
       "      <th>2</th>\n",
       "      <td>recreation</td>\n",
       "      <td>69.4</td>\n",
       "      <td>79.3</td>\n",
       "      <td>66.5 (<span style='color:red'>+ -2.9</span>)</td>\n",
       "      <td>68.6 (<span style='color:red'>+ -0.8</span>)</td>\n",
       "      <td>68.6 (<span style='color:red'>+ -0.8</span>)</td>\n",
       "      <td>68.5</td>\n",
       "      <td>72.3</td>\n",
       "    </tr>\n",
       "    <tr>\n",
       "      <th>3</th>\n",
       "      <td>science</td>\n",
       "      <td>54.9</td>\n",
       "      <td>60.8</td>\n",
       "      <td>52.5 (<span style='color:red'>+ -2.4</span>)</td>\n",
       "      <td>54.8 (<span style='color:red'>+ -0.1</span>)</td>\n",
       "      <td>56.2 (<span style='color:green'>+ 1.3</span>)</td>\n",
       "      <td>53.6</td>\n",
       "      <td>56.7</td>\n",
       "    </tr>\n",
       "    <tr>\n",
       "      <th>4</th>\n",
       "      <td>technology</td>\n",
       "      <td>63.2</td>\n",
       "      <td>73.7</td>\n",
       "      <td>60.2 (<span style='color:red'>+ -3.0</span>)</td>\n",
       "      <td>62.4 (<span style='color:red'>+ -0.8</span>)</td>\n",
       "      <td>63.8 (<span style='color:green'>+ 0.6</span>)</td>\n",
       "      <td>61.9</td>\n",
       "      <td>66.1</td>\n",
       "    </tr>\n",
       "    <tr>\n",
       "      <th>5</th>\n",
       "      <td>writing</td>\n",
       "      <td>77.0</td>\n",
       "      <td>83.3</td>\n",
       "      <td>76.7 (<span style='color:red'>+ -0.3</span>)</td>\n",
       "      <td>77.5 (<span style='color:green'>+ 0.5</span>)</td>\n",
       "      <td>77.4 (<span style='color:green'>+ 0.4</span>)</td>\n",
       "      <td>74.7</td>\n",
       "      <td>80.1</td>\n",
       "    </tr>\n",
       "  </tbody>\n",
       "</table>"
      ],
      "text/plain": [
       "<IPython.core.display.HTML object>"
      ]
     },
     "metadata": {},
     "output_type": "display_data"
    }
   ],
   "source": [
    "import pandas as pd\n",
    "\n",
    "xtr_base = {\"lifestyle\": 82.1, \"pooled\": 69.0, \"recreation\":69.4, \"science\": 54.9, \"technology\": 63.2, \"writing\": 77.0}\n",
    "xtr_xxl = {\"lifestyle\": 89.1, \"pooled\": 77.3, \"recreation\": 79.3, \"science\": 60.8, \"technology\": 73.7, \"writing\": 83.3}\n",
    "colbert = {\"lifestyle\": 80.2, \"pooled\": 67.3, \"recreation\": 68.5, \"science\": 53.6, \"technology\": 61.9, \"writing\": 74.7}\n",
    "colbertv2 = {\"lifestyle\": 84.7, \"pooled\": 71.6, \"recreation\": 72.3, \"science\": 56.7, \"technology\": 66.1, \"writing\": 80.1}\n",
    "\n",
    "results_by_dataset = dict()\n",
    "offset = dict()\n",
    "for result in results:\n",
    "    collection = result[\"provenance\"][\"dataset\"]\n",
    "    nbits = result[\"config\"][\"nbits\"]\n",
    "    \n",
    "    s5 = result[\"metrics\"][\"Success@5\"]\n",
    "    results_by_dataset[(collection, nbits)] = round(s5 * 100.0, 1)\n",
    "    offset_to_base = round(100.0 * s5 - xtr_base[collection], 1)\n",
    "    if offset_to_base > 0:\n",
    "        offset_to_base = f\"<span style='color:green'>+ {offset_to_base}</span>\"\n",
    "    else:\n",
    "        offset_to_base = f\"<span style='color:red'>+ {offset_to_base}</span>\"\n",
    "    offset[(collection, nbits)] = offset_to_base\n",
    "\n",
    "df = pd.DataFrame(data=[[collection, xtr_base[collection], xtr_xxl[collection], *[f\"{results_by_dataset[(collection, nbits)]} ({offset[(collection, nbits)]})\" for nbits in NBITS], colbert[collection], colbertv2[collection]] for collection in COLLECTIONS],\n",
    "                  columns=[\"dataset\", \"XTR-base\", \"XTR-xxl\", *[f\"S@5 (nbits={nbits})\" for nbits in NBITS], \"ColBERT\", \"ColBERTv2\"])\n",
    "\n",
    "from IPython.display import display, HTML\n",
    "display(HTML(df.to_html(escape=False)))"
   ]
  }
 ],
 "metadata": {
  "kernelspec": {
   "display_name": "Python 3 (ipykernel)",
   "language": "python",
   "name": "python3"
  },
  "language_info": {
   "codemirror_mode": {
    "name": "ipython",
    "version": 3
   },
   "file_extension": ".py",
   "mimetype": "text/x-python",
   "name": "python",
   "nbconvert_exporter": "python",
   "pygments_lexer": "ipython3",
   "version": "3.8.19"
  }
 },
 "nbformat": 4,
 "nbformat_minor": 5
}
