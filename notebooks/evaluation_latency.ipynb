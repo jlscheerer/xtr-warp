{
 "cells": [
  {
   "cell_type": "code",
   "execution_count": 1,
   "id": "bd3e962c-1f70-4e4f-b9ff-07a0c0efbb71",
   "metadata": {},
   "outputs": [],
   "source": [
    "import colbert.warp.setup\n",
    "\n",
    "from colbert.warp.config import WARPRunConfig\n",
    "from colbert.warp.searcher import WARPSearcher\n",
    "from colbert.warp.queries import WARPQueries"
   ]
  },
  {
   "cell_type": "code",
   "execution_count": 10,
   "id": "e4f6d97d-8e73-4e7c-8778-908f36eaffdb",
   "metadata": {},
   "outputs": [
    {
     "name": "stdout",
     "output_type": "stream",
     "text": [
      "[Jul 11, 13:46:48] #> Loading collection...\n",
      "0M \n",
      "[Jul 11, 13:46:51] #> Loading buckets...\n",
      "[Jul 11, 13:46:51] #> Loading codec...\n",
      "[Jul 11, 13:46:52] #> Loading repacked residuals...\n",
      "[Jul 11, 13:46:53] #> Loading the queries from /Users/jlscheerer/future/datasets/writing/test/questions.search.tsv ...\n",
      "[Jul 11, 13:46:53] #> Got 1071 queries. All QIDs are unique.\n",
      "\n"
     ]
    }
   ],
   "source": [
    "config = WARPRunConfig(\n",
    "    nranks=4,\n",
    "    dataset=\"lotte\",\n",
    "    collection=\"writing\",\n",
    "    type_=\"search\",\n",
    "    datasplit=\"test\",\n",
    "    nbits=4,\n",
    "    k=100\n",
    ")\n",
    "searcher = WARPSearcher(config)\n",
    "queries = WARPQueries(config)"
   ]
  },
  {
   "cell_type": "code",
   "execution_count": 5,
   "id": "e976d7ae-02f3-4981-ab18-10d4e365e8e2",
   "metadata": {},
   "outputs": [
    {
     "name": "stderr",
     "output_type": "stream",
     "text": [
      "1071it [00:07, 135.02it/s]\n"
     ]
    }
   ],
   "source": [
    "ranking = searcher.search_all(queries)"
   ]
  }
 ],
 "metadata": {
  "kernelspec": {
   "display_name": "Python 3 (ipykernel)",
   "language": "python",
   "name": "python3"
  },
  "language_info": {
   "codemirror_mode": {
    "name": "ipython",
    "version": 3
   },
   "file_extension": ".py",
   "mimetype": "text/x-python",
   "name": "python",
   "nbconvert_exporter": "python",
   "pygments_lexer": "ipython3",
   "version": "3.10.12"
  }
 },
 "nbformat": 4,
 "nbformat_minor": 5
}
