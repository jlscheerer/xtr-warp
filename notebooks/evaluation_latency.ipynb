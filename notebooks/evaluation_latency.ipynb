{
 "cells": [
  {
   "cell_type": "code",
   "execution_count": 1,
   "id": "bd3e962c-1f70-4e4f-b9ff-07a0c0efbb71",
   "metadata": {},
   "outputs": [],
   "source": [
    "import colbert.warp.setup\n",
    "\n",
    "from colbert.warp.config import WARPRunConfig\n",
    "from colbert.warp.searcher import WARPSearcher\n",
    "from colbert.warp.data.queries import WARPQueries"
   ]
  },
  {
   "cell_type": "code",
   "execution_count": 2,
   "id": "e4f6d97d-8e73-4e7c-8778-908f36eaffdb",
   "metadata": {},
   "outputs": [
    {
     "name": "stdout",
     "output_type": "stream",
     "text": [
      "[Jul 11, 14:52:56] #> Loading collection...\n",
      "0M \n",
      "[Jul 11, 14:52:59] #> Loading buckets...\n",
      "[Jul 11, 14:52:59] #> Loading codec...\n",
      "[Jul 11, 14:53:00] Loading segmented_lookup_cpp extension (set COLBERT_LOAD_TORCH_EXTENSION_VERBOSE=True for more info)...\n",
      "[Jul 11, 14:53:00] #> Loading repacked residuals...\n",
      "[Jul 11, 14:53:01] Loading precompute_topk_centroids_cpp extension (set WARP_LOAD_TORCH_EXTENSION_VERBOSE=True for more info)...\n",
      "[Jul 11, 14:53:01] Loading decompress_centroid_embeds_strided_repacked_cpp extension (set WARP_LOAD_TORCH_EXTENSION_VERBOSE=True for more info)...\n",
      "[Jul 11, 14:53:01] Loading compute_candidate_scores_cpp extension (set WARP_LOAD_TORCH_EXTENSION_VERBOSE=True for more info)...\n",
      "[Jul 11, 14:53:01] #> Loading the queries from /Users/jlscheerer/future/datasets/writing/test/questions.search.tsv ...\n",
      "[Jul 11, 14:53:01] #> Got 1071 queries. All QIDs are unique.\n",
      "\n"
     ]
    }
   ],
   "source": [
    "config = WARPRunConfig(\n",
    "    nranks=4,\n",
    "    dataset=\"lotte\",\n",
    "    collection=\"writing\",\n",
    "    type_=\"search\",\n",
    "    datasplit=\"test\",\n",
    "    nbits=4,\n",
    "    k=100\n",
    ")\n",
    "searcher = WARPSearcher(config)\n",
    "queries = WARPQueries(config)"
   ]
  },
  {
   "cell_type": "code",
   "execution_count": 5,
   "id": "89ad2f93-7bba-47b8-b4f7-1353dfdd1c38",
   "metadata": {},
   "outputs": [
    {
     "name": "stderr",
     "output_type": "stream",
     "text": [
      "1071it [00:07, 143.14it/s]\n"
     ]
    }
   ],
   "source": [
    "ranking = searcher.search_all(queries, k=5, batched=True)"
   ]
  },
  {
   "cell_type": "code",
   "execution_count": 4,
   "id": "8c4f0cbd-62a1-439a-9734-2ee042fc5025",
   "metadata": {},
   "outputs": [
    {
     "data": {
      "text/plain": [
       "{'provenance': {'query_type': 'search', 'dataset': 'writing'},\n",
       " 'metrics': {'Success@5': 0.7665732959850607}}"
      ]
     },
     "execution_count": 4,
     "metadata": {},
     "output_type": "execute_result"
    }
   ],
   "source": [
    "ranking.evaluate(queries.qrels, k=5)"
   ]
  },
  {
   "cell_type": "code",
   "execution_count": 6,
   "id": "701dcb9b-900b-499d-95bb-779c2bbfe518",
   "metadata": {},
   "outputs": [
    {
     "data": {
      "text/plain": [
       "{'provenance': {'query_type': 'search', 'dataset': 'writing'},\n",
       " 'metrics': {'Success@5': 0.7665732959850607}}"
      ]
     },
     "execution_count": 6,
     "metadata": {},
     "output_type": "execute_result"
    }
   ],
   "source": [
    "ranking.evaluate(queries.qrels, k=5)"
   ]
  },
  {
   "cell_type": "code",
   "execution_count": 7,
   "id": "c81f6390-b0f0-4492-9c5a-297469d42a1c",
   "metadata": {},
   "outputs": [
    {
     "data": {
      "text/plain": [
       "<colbert.warp.data.ranking.WARPRanking at 0x14ec9d150>"
      ]
     },
     "execution_count": 7,
     "metadata": {},
     "output_type": "execute_result"
    }
   ],
   "source": [
    "ranking"
   ]
  },
  {
   "cell_type": "code",
   "execution_count": null,
   "id": "d90cd958-ccb7-49a8-9f90-93edca6c62ab",
   "metadata": {},
   "outputs": [],
   "source": []
  }
 ],
 "metadata": {
  "kernelspec": {
   "display_name": "Python 3 (ipykernel)",
   "language": "python",
   "name": "python3"
  },
  "language_info": {
   "codemirror_mode": {
    "name": "ipython",
    "version": 3
   },
   "file_extension": ".py",
   "mimetype": "text/x-python",
   "name": "python",
   "nbconvert_exporter": "python",
   "pygments_lexer": "ipython3",
   "version": "3.10.12"
  }
 },
 "nbformat": 4,
 "nbformat_minor": 5
}
